{
 "cells": [
  {
   "cell_type": "code",
   "execution_count": 27,
   "metadata": {},
   "outputs": [],
   "source": [
    "import numpy as np\n",
    "import pandas as pd\n",
    "from sklearn.preprocessing import LabelEncoder\n",
    "import matplotlib.pyplot as plt\n",
    "import seaborn as sns\n",
    "sns.set_style('white')\n",
    "from sklearn.ensemble import RandomForestRegressor\n",
    "from sklearn.metrics import mean_squared_error\n",
    "from sklearn.model_selection import train_test_split\n",
    "%matplotlib inline"
   ]
  },
  {
   "cell_type": "code",
   "execution_count": 46,
   "metadata": {},
   "outputs": [],
   "source": [
    "df_train = pd.read_csv('Train.csv')\n",
    "df_train[\"Train\"] = 1\n",
    "df_test = pd.read_csv('Test.csv')\n",
    "df_test[\"Test\"] = 0\n",
    "All_Data = pd.concat([df_train,df_test],axis=0,sort=False)"
   ]
  },
  {
   "cell_type": "code",
   "execution_count": 48,
   "metadata": {},
   "outputs": [
    {
     "data": {
      "text/html": [
       "<div>\n",
       "<style scoped>\n",
       "    .dataframe tbody tr th:only-of-type {\n",
       "        vertical-align: middle;\n",
       "    }\n",
       "\n",
       "    .dataframe tbody tr th {\n",
       "        vertical-align: top;\n",
       "    }\n",
       "\n",
       "    .dataframe thead th {\n",
       "        text-align: right;\n",
       "    }\n",
       "</style>\n",
       "<table border=\"1\" class=\"dataframe\">\n",
       "  <thead>\n",
       "    <tr style=\"text-align: right;\">\n",
       "      <th></th>\n",
       "      <th>VehicleID</th>\n",
       "      <th>Location</th>\n",
       "      <th>Maker</th>\n",
       "      <th>Model</th>\n",
       "      <th>Year</th>\n",
       "      <th>Colour</th>\n",
       "      <th>Amount (Million Naira)</th>\n",
       "      <th>Type</th>\n",
       "      <th>Distance</th>\n",
       "      <th>Train</th>\n",
       "      <th>Test</th>\n",
       "    </tr>\n",
       "  </thead>\n",
       "  <tbody>\n",
       "    <tr>\n",
       "      <td>2056</td>\n",
       "      <td>VHL17903</td>\n",
       "      <td>Abuja</td>\n",
       "      <td>Toyota</td>\n",
       "      <td>Avalon</td>\n",
       "      <td>2,020</td>\n",
       "      <td>Red</td>\n",
       "      <td>NaN</td>\n",
       "      <td>Foreign Used</td>\n",
       "      <td>2650</td>\n",
       "      <td>NaN</td>\n",
       "      <td>0.0</td>\n",
       "    </tr>\n",
       "    <tr>\n",
       "      <td>2057</td>\n",
       "      <td>VHL14018</td>\n",
       "      <td>Ibadan</td>\n",
       "      <td>Audi</td>\n",
       "      <td>Q5</td>\n",
       "      <td>2,011</td>\n",
       "      <td>Blue</td>\n",
       "      <td>NaN</td>\n",
       "      <td>Foreign Used</td>\n",
       "      <td>99000</td>\n",
       "      <td>NaN</td>\n",
       "      <td>0.0</td>\n",
       "    </tr>\n",
       "    <tr>\n",
       "      <td>2058</td>\n",
       "      <td>VHL17473</td>\n",
       "      <td>Ibadan</td>\n",
       "      <td>Toyota</td>\n",
       "      <td>Camry</td>\n",
       "      <td>2,015</td>\n",
       "      <td>Black</td>\n",
       "      <td>NaN</td>\n",
       "      <td>Foreign Used</td>\n",
       "      <td>108000</td>\n",
       "      <td>NaN</td>\n",
       "      <td>0.0</td>\n",
       "    </tr>\n",
       "    <tr>\n",
       "      <td>2059</td>\n",
       "      <td>VHL11480</td>\n",
       "      <td>Abuja</td>\n",
       "      <td>Lexus</td>\n",
       "      <td>IS 350 AWD</td>\n",
       "      <td>2,013</td>\n",
       "      <td>White</td>\n",
       "      <td>NaN</td>\n",
       "      <td>Foreign Used</td>\n",
       "      <td>52485</td>\n",
       "      <td>NaN</td>\n",
       "      <td>0.0</td>\n",
       "    </tr>\n",
       "    <tr>\n",
       "      <td>2060</td>\n",
       "      <td>VHL13881</td>\n",
       "      <td>Abuja</td>\n",
       "      <td>Pontiac</td>\n",
       "      <td>Torrent</td>\n",
       "      <td>2,009</td>\n",
       "      <td>Silver</td>\n",
       "      <td>NaN</td>\n",
       "      <td>Foreign Used</td>\n",
       "      <td>124088</td>\n",
       "      <td>NaN</td>\n",
       "      <td>0.0</td>\n",
       "    </tr>\n",
       "  </tbody>\n",
       "</table>\n",
       "</div>"
      ],
      "text/plain": [
       "     VehicleID Location    Maker       Model   Year  Colour  \\\n",
       "2056  VHL17903    Abuja   Toyota      Avalon  2,020     Red   \n",
       "2057  VHL14018   Ibadan     Audi          Q5  2,011    Blue   \n",
       "2058  VHL17473   Ibadan   Toyota       Camry  2,015   Black   \n",
       "2059  VHL11480    Abuja    Lexus  IS 350 AWD  2,013   White   \n",
       "2060  VHL13881    Abuja  Pontiac     Torrent  2,009  Silver   \n",
       "\n",
       "      Amount (Million Naira)          Type Distance  Train  Test  \n",
       "2056                     NaN  Foreign Used     2650    NaN   0.0  \n",
       "2057                     NaN  Foreign Used    99000    NaN   0.0  \n",
       "2058                     NaN  Foreign Used   108000    NaN   0.0  \n",
       "2059                     NaN  Foreign Used    52485    NaN   0.0  \n",
       "2060                     NaN  Foreign Used   124088    NaN   0.0  "
      ]
     },
     "execution_count": 48,
     "metadata": {},
     "output_type": "execute_result"
    }
   ],
   "source": [
    "All_Data.tail()"
   ]
  },
  {
   "cell_type": "code",
   "execution_count": 49,
   "metadata": {},
   "outputs": [
    {
     "data": {
      "text/plain": [
       "VehicleID                 0.000000\n",
       "Location                  0.000000\n",
       "Maker                     0.000000\n",
       "Model                     0.000000\n",
       "Year                      0.002482\n",
       "Colour                    0.000000\n",
       "Amount (Million Naira)    0.224261\n",
       "Type                      0.027088\n",
       "Distance                  0.327649\n",
       "Train                     0.222426\n",
       "Test                      0.777574\n",
       "dtype: float64"
      ]
     },
     "execution_count": 49,
     "metadata": {},
     "output_type": "execute_result"
    }
   ],
   "source": [
    "All_Data.isnull().sum()/All_Data.shape[0]"
   ]
  },
  {
   "cell_type": "code",
   "execution_count": 50,
   "metadata": {},
   "outputs": [],
   "source": [
    "mode=All_Data.Type.mode().values[0]\n",
    "All_Data.Type.fillna(mode,inplace=True)\n",
    "mean=All_Data['Amount (Million Naira)'].mean()\n",
    "All_Data['Amount (Million Naira)'].fillna(mean, inplace=True)"
   ]
  },
  {
   "cell_type": "code",
   "execution_count": 51,
   "metadata": {
    "scrolled": true
   },
   "outputs": [],
   "source": [
    "All_Data['Year']=All_Data['Year'].fillna(method='ffill')\n",
    "All_Data.Year =All_Data.Year.apply(lambda x: x.replace(',',\"\"))\n",
    "All_Data.Year =All_Data.Year.astype(np.int64)\n",
    "All_Data.Year =All_Data.Year.astype(np.int64)"
   ]
  },
  {
   "cell_type": "code",
   "execution_count": 52,
   "metadata": {},
   "outputs": [
    {
     "name": "stdout",
     "output_type": "stream",
     "text": [
      "<class 'pandas.core.frame.DataFrame'>\n",
      "Int64Index: 9266 entries, 0 to 2060\n",
      "Data columns (total 11 columns):\n",
      "VehicleID                 9266 non-null object\n",
      "Location                  9266 non-null object\n",
      "Maker                     9266 non-null object\n",
      "Model                     9266 non-null object\n",
      "Year                      9266 non-null int64\n",
      "Colour                    9266 non-null object\n",
      "Amount (Million Naira)    9266 non-null float64\n",
      "Type                      9266 non-null object\n",
      "Distance                  6230 non-null object\n",
      "Train                     7205 non-null float64\n",
      "Test                      2061 non-null float64\n",
      "dtypes: float64(3), int64(1), object(7)\n",
      "memory usage: 868.7+ KB\n"
     ]
    }
   ],
   "source": [
    "All_Data.info()"
   ]
  },
  {
   "cell_type": "code",
   "execution_count": 53,
   "metadata": {},
   "outputs": [],
   "source": [
    "\n",
    "mode=All_Data['Distance'].mode().values[0]\n",
    "All_Data['Distance'].fillna(mode,inplace=True)\n",
    "def c(x):\n",
    "    if isinstance(x,str):\n",
    "        x = x.split(\",\")\n",
    "        x=\"\".join(x)\n",
    "    else:\n",
    "        x=x\n",
    "    return x\n",
    "All_Data['Distance'] =All_Data['Distance'].apply(c)\n",
    "All_Data['Distance'] =All_Data['Distance'].astype(np.float64)"
   ]
  },
  {
   "cell_type": "code",
   "execution_count": 54,
   "metadata": {
    "scrolled": true
   },
   "outputs": [
    {
     "name": "stdout",
     "output_type": "stream",
     "text": [
      "<class 'pandas.core.frame.DataFrame'>\n",
      "Int64Index: 9266 entries, 0 to 2060\n",
      "Data columns (total 11 columns):\n",
      "VehicleID                 9266 non-null object\n",
      "Location                  9266 non-null object\n",
      "Maker                     9266 non-null object\n",
      "Model                     9266 non-null object\n",
      "Year                      9266 non-null int64\n",
      "Colour                    9266 non-null object\n",
      "Amount (Million Naira)    9266 non-null float64\n",
      "Type                      9266 non-null object\n",
      "Distance                  9266 non-null float64\n",
      "Train                     7205 non-null float64\n",
      "Test                      2061 non-null float64\n",
      "dtypes: float64(4), int64(1), object(6)\n",
      "memory usage: 868.7+ KB\n"
     ]
    }
   ],
   "source": [
    "All_Data.info()"
   ]
  },
  {
   "cell_type": "code",
   "execution_count": 55,
   "metadata": {},
   "outputs": [
    {
     "data": {
      "text/plain": [
       "array(['Nigerian Used', 'Foreign Used', 'Brand New'], dtype=object)"
      ]
     },
     "execution_count": 55,
     "metadata": {},
     "output_type": "execute_result"
    }
   ],
   "source": [
    "All_Data['Type'].unique()"
   ]
  },
  {
   "cell_type": "code",
   "execution_count": 56,
   "metadata": {},
   "outputs": [],
   "source": [
    "from sklearn.preprocessing import LabelEncoder\n",
    "Encoder = LabelEncoder()\n",
    "All_Data['Maker'] = Encoder.fit_transform(All_Data['Maker'])\n",
    "All_Data['Model'] = Encoder.fit_transform(All_Data['Model'])\n",
    "All_Data['Location'] = Encoder.fit_transform(All_Data['Model'])\n",
    "All_Data['Type'] = Encoder.fit_transform(All_Data['Type'])"
   ]
  },
  {
   "cell_type": "code",
   "execution_count": 57,
   "metadata": {},
   "outputs": [
    {
     "data": {
      "text/plain": [
       "{'Brand New': 0, 'Foreign Used': 1, 'Nigerian Used': 2}"
      ]
     },
     "execution_count": 57,
     "metadata": {},
     "output_type": "execute_result"
    }
   ],
   "source": [
    "type_mapping = dict(zip(Encoder.classes_,range(len(Encoder.classes_))))\n",
    "type_mapping"
   ]
  },
  {
   "cell_type": "code",
   "execution_count": 58,
   "metadata": {},
   "outputs": [
    {
     "name": "stdout",
     "output_type": "stream",
     "text": [
      "<class 'pandas.core.frame.DataFrame'>\n",
      "Int64Index: 9266 entries, 0 to 2060\n",
      "Data columns (total 11 columns):\n",
      "VehicleID                 9266 non-null object\n",
      "Location                  9266 non-null int64\n",
      "Maker                     9266 non-null int32\n",
      "Model                     9266 non-null int32\n",
      "Year                      9266 non-null int64\n",
      "Colour                    9266 non-null object\n",
      "Amount (Million Naira)    9266 non-null float64\n",
      "Type                      9266 non-null int32\n",
      "Distance                  9266 non-null float64\n",
      "Train                     7205 non-null float64\n",
      "Test                      2061 non-null float64\n",
      "dtypes: float64(4), int32(3), int64(2), object(2)\n",
      "memory usage: 760.1+ KB\n"
     ]
    }
   ],
   "source": [
    "All_Data.info()"
   ]
  },
  {
   "cell_type": "code",
   "execution_count": 59,
   "metadata": {},
   "outputs": [
    {
     "data": {
      "text/html": [
       "<div>\n",
       "<style scoped>\n",
       "    .dataframe tbody tr th:only-of-type {\n",
       "        vertical-align: middle;\n",
       "    }\n",
       "\n",
       "    .dataframe tbody tr th {\n",
       "        vertical-align: top;\n",
       "    }\n",
       "\n",
       "    .dataframe thead th {\n",
       "        text-align: right;\n",
       "    }\n",
       "</style>\n",
       "<table border=\"1\" class=\"dataframe\">\n",
       "  <thead>\n",
       "    <tr style=\"text-align: right;\">\n",
       "      <th></th>\n",
       "      <th>Location</th>\n",
       "      <th>Maker</th>\n",
       "      <th>Model</th>\n",
       "      <th>Year</th>\n",
       "      <th>Amount (Million Naira)</th>\n",
       "      <th>Type</th>\n",
       "      <th>Distance</th>\n",
       "      <th>Train</th>\n",
       "      <th>Test</th>\n",
       "    </tr>\n",
       "  </thead>\n",
       "  <tbody>\n",
       "    <tr>\n",
       "      <td>count</td>\n",
       "      <td>9266.000000</td>\n",
       "      <td>9266.000000</td>\n",
       "      <td>9266.000000</td>\n",
       "      <td>9266.000000</td>\n",
       "      <td>9266.000000</td>\n",
       "      <td>9266.000000</td>\n",
       "      <td>9.266000e+03</td>\n",
       "      <td>7205.0</td>\n",
       "      <td>2061.0</td>\n",
       "    </tr>\n",
       "    <tr>\n",
       "      <td>mean</td>\n",
       "      <td>657.640298</td>\n",
       "      <td>37.158429</td>\n",
       "      <td>657.640298</td>\n",
       "      <td>2011.044787</td>\n",
       "      <td>11.847999</td>\n",
       "      <td>1.232571</td>\n",
       "      <td>9.404949e+04</td>\n",
       "      <td>1.0</td>\n",
       "      <td>0.0</td>\n",
       "    </tr>\n",
       "    <tr>\n",
       "      <td>std</td>\n",
       "      <td>358.378592</td>\n",
       "      <td>14.778178</td>\n",
       "      <td>358.378592</td>\n",
       "      <td>4.879049</td>\n",
       "      <td>22.299562</td>\n",
       "      <td>0.490362</td>\n",
       "      <td>9.576327e+04</td>\n",
       "      <td>0.0</td>\n",
       "      <td>0.0</td>\n",
       "    </tr>\n",
       "    <tr>\n",
       "      <td>min</td>\n",
       "      <td>0.000000</td>\n",
       "      <td>0.000000</td>\n",
       "      <td>0.000000</td>\n",
       "      <td>1979.000000</td>\n",
       "      <td>0.450000</td>\n",
       "      <td>0.000000</td>\n",
       "      <td>1.000000e+00</td>\n",
       "      <td>1.0</td>\n",
       "      <td>0.0</td>\n",
       "    </tr>\n",
       "    <tr>\n",
       "      <td>25%</td>\n",
       "      <td>335.000000</td>\n",
       "      <td>29.000000</td>\n",
       "      <td>335.000000</td>\n",
       "      <td>2008.000000</td>\n",
       "      <td>4.000000</td>\n",
       "      <td>1.000000</td>\n",
       "      <td>6.717400e+04</td>\n",
       "      <td>1.0</td>\n",
       "      <td>0.0</td>\n",
       "    </tr>\n",
       "    <tr>\n",
       "      <td>50%</td>\n",
       "      <td>613.000000</td>\n",
       "      <td>34.000000</td>\n",
       "      <td>613.000000</td>\n",
       "      <td>2011.000000</td>\n",
       "      <td>8.000000</td>\n",
       "      <td>1.000000</td>\n",
       "      <td>7.500000e+04</td>\n",
       "      <td>1.0</td>\n",
       "      <td>0.0</td>\n",
       "    </tr>\n",
       "    <tr>\n",
       "      <td>75%</td>\n",
       "      <td>983.750000</td>\n",
       "      <td>53.000000</td>\n",
       "      <td>983.750000</td>\n",
       "      <td>2014.000000</td>\n",
       "      <td>11.847999</td>\n",
       "      <td>2.000000</td>\n",
       "      <td>9.593125e+04</td>\n",
       "      <td>1.0</td>\n",
       "      <td>0.0</td>\n",
       "    </tr>\n",
       "    <tr>\n",
       "      <td>max</td>\n",
       "      <td>1411.000000</td>\n",
       "      <td>55.000000</td>\n",
       "      <td>1411.000000</td>\n",
       "      <td>2022.000000</td>\n",
       "      <td>456.000000</td>\n",
       "      <td>2.000000</td>\n",
       "      <td>1.985400e+06</td>\n",
       "      <td>1.0</td>\n",
       "      <td>0.0</td>\n",
       "    </tr>\n",
       "  </tbody>\n",
       "</table>\n",
       "</div>"
      ],
      "text/plain": [
       "          Location        Maker        Model         Year  \\\n",
       "count  9266.000000  9266.000000  9266.000000  9266.000000   \n",
       "mean    657.640298    37.158429   657.640298  2011.044787   \n",
       "std     358.378592    14.778178   358.378592     4.879049   \n",
       "min       0.000000     0.000000     0.000000  1979.000000   \n",
       "25%     335.000000    29.000000   335.000000  2008.000000   \n",
       "50%     613.000000    34.000000   613.000000  2011.000000   \n",
       "75%     983.750000    53.000000   983.750000  2014.000000   \n",
       "max    1411.000000    55.000000  1411.000000  2022.000000   \n",
       "\n",
       "       Amount (Million Naira)         Type      Distance   Train    Test  \n",
       "count             9266.000000  9266.000000  9.266000e+03  7205.0  2061.0  \n",
       "mean                11.847999     1.232571  9.404949e+04     1.0     0.0  \n",
       "std                 22.299562     0.490362  9.576327e+04     0.0     0.0  \n",
       "min                  0.450000     0.000000  1.000000e+00     1.0     0.0  \n",
       "25%                  4.000000     1.000000  6.717400e+04     1.0     0.0  \n",
       "50%                  8.000000     1.000000  7.500000e+04     1.0     0.0  \n",
       "75%                 11.847999     2.000000  9.593125e+04     1.0     0.0  \n",
       "max                456.000000     2.000000  1.985400e+06     1.0     0.0  "
      ]
     },
     "execution_count": 59,
     "metadata": {},
     "output_type": "execute_result"
    }
   ],
   "source": [
    "All_Data.describe()"
   ]
  },
  {
   "cell_type": "code",
   "execution_count": 60,
   "metadata": {},
   "outputs": [],
   "source": [
    "All_Data.reset_index(inplace=True)"
   ]
  },
  {
   "cell_type": "code",
   "execution_count": 65,
   "metadata": {},
   "outputs": [
    {
     "data": {
      "text/plain": [
       "<seaborn.axisgrid.JointGrid at 0x165a0747088>"
      ]
     },
     "execution_count": 65,
     "metadata": {},
     "output_type": "execute_result"
    },
    {
     "data": {
      "image/png": "[encoded data removed]",
      "text/plain": [
       "<Figure size 432x432 with 3 Axes>"
      ]
     },
     "metadata": {
      "needs_background": "light"
     },
     "output_type": "display_data"
    }
   ],
   "source": [
    "sns.jointplot(x='Maker',y='Model', kind='hex',data=All_Data)"
   ]
  },
  {
   "cell_type": "code",
   "execution_count": 35,
   "metadata": {},
   "outputs": [
    {
     "name": "stdout",
     "output_type": "stream",
     "text": [
      "<class 'pandas.core.frame.DataFrame'>\n",
      "RangeIndex: 9266 entries, 0 to 9265\n",
      "Data columns (total 10 columns):\n",
      "VehicleID                 9266 non-null object\n",
      "Location                  9266 non-null object\n",
      "Maker                     9266 non-null object\n",
      "Model                     9266 non-null object\n",
      "Year                      9243 non-null object\n",
      "Colour                    9266 non-null object\n",
      "Amount (Million Naira)    7188 non-null float64\n",
      "Type                      9015 non-null object\n",
      "Distance                  6230 non-null object\n",
      "Train                     9266 non-null int64\n",
      "dtypes: float64(1), int64(1), object(8)\n",
      "memory usage: 724.0+ KB\n"
     ]
    }
   ],
   "source": [
    "All_Data.drop(columns=[\"index\"],inplace=True)\n",
    "All_Data.info()"
   ]
  },
  {
   "cell_type": "code",
   "execution_count": 16,
   "metadata": {},
   "outputs": [],
   "source": [
    "Train = All_Data[All_Data[\"Train\"]==1]\n",
    "Test = All_Data[All_Data[\"Train\"]==0]"
   ]
  },
  {
   "cell_type": "code",
   "execution_count": 17,
   "metadata": {},
   "outputs": [
    {
     "name": "stdout",
     "output_type": "stream",
     "text": [
      "<class 'pandas.core.frame.DataFrame'>\n",
      "Int64Index: 2061 entries, 7205 to 9265\n",
      "Data columns (total 10 columns):\n",
      "VehicleID                 2061 non-null object\n",
      "Location                  2061 non-null int64\n",
      "Maker                     2061 non-null int32\n",
      "Model                     2061 non-null int32\n",
      "Year                      2061 non-null int64\n",
      "Colour                    2061 non-null object\n",
      "Amount (Million Naira)    2061 non-null float64\n",
      "Type                      2061 non-null int32\n",
      "Distance                  2061 non-null float64\n",
      "Train                     2061 non-null int64\n",
      "dtypes: float64(2), int32(3), int64(3), object(2)\n",
      "memory usage: 153.0+ KB\n"
     ]
    }
   ],
   "source": [
    "Test.info()"
   ]
  },
  {
   "cell_type": "code",
   "execution_count": 18,
   "metadata": {},
   "outputs": [
    {
     "name": "stdout",
     "output_type": "stream",
     "text": [
      "<class 'pandas.core.frame.DataFrame'>\n",
      "Int64Index: 7205 entries, 0 to 7204\n",
      "Data columns (total 10 columns):\n",
      "VehicleID                 7205 non-null object\n",
      "Location                  7205 non-null int64\n",
      "Maker                     7205 non-null int32\n",
      "Model                     7205 non-null int32\n",
      "Year                      7205 non-null int64\n",
      "Colour                    7205 non-null object\n",
      "Amount (Million Naira)    7205 non-null float64\n",
      "Type                      7205 non-null int32\n",
      "Distance                  7205 non-null float64\n",
      "Train                     7205 non-null int64\n",
      "dtypes: float64(2), int32(3), int64(3), object(2)\n",
      "memory usage: 534.7+ KB\n"
     ]
    }
   ],
   "source": [
    "Train.info()"
   ]
  },
  {
   "cell_type": "code",
   "execution_count": 19,
   "metadata": {},
   "outputs": [],
   "source": [
    "X = Train.drop(columns=[\"VehicleID\",\"Colour\",\"Distance\",\"Train\",\"Amount (Million Naira)\"])\n",
    "y = Train[\"Amount (Million Naira)\"]"
   ]
  },
  {
   "cell_type": "code",
   "execution_count": 20,
   "metadata": {},
   "outputs": [
    {
     "data": {
      "text/plain": [
       "RandomForestRegressor(bootstrap=True, criterion='mse', max_depth=None,\n",
       "                      max_features='auto', max_leaf_nodes=None,\n",
       "                      min_impurity_decrease=0.0, min_impurity_split=None,\n",
       "                      min_samples_leaf=1, min_samples_split=2,\n",
       "                      min_weight_fraction_leaf=0.0, n_estimators=100,\n",
       "                      n_jobs=None, oob_score=False, random_state=11, verbose=0,\n",
       "                      warm_start=False)"
      ]
     },
     "execution_count": 20,
     "metadata": {},
     "output_type": "execute_result"
    }
   ],
   "source": [
    "Model = RandomForestRegressor(random_state=11,n_estimators=100)\n",
    "Model.fit(X,y)"
   ]
  },
  {
   "cell_type": "code",
   "execution_count": 21,
   "metadata": {},
   "outputs": [],
   "source": [
    "New_x=Test.drop(columns=[\"Amount (Million Naira)\",\"VehicleID\",\"Colour\",\"Distance\",\"Train\"])"
   ]
  },
  {
   "cell_type": "code",
   "execution_count": 22,
   "metadata": {},
   "outputs": [],
   "source": [
    "pred = Model.predict(New_x)"
   ]
  },
  {
   "cell_type": "code",
   "execution_count": 23,
   "metadata": {},
   "outputs": [
    {
     "data": {
      "text/html": [
       "<div>\n",
       "<style scoped>\n",
       "    .dataframe tbody tr th:only-of-type {\n",
       "        vertical-align: middle;\n",
       "    }\n",
       "\n",
       "    .dataframe tbody tr th {\n",
       "        vertical-align: top;\n",
       "    }\n",
       "\n",
       "    .dataframe thead th {\n",
       "        text-align: right;\n",
       "    }\n",
       "</style>\n",
       "<table border=\"1\" class=\"dataframe\">\n",
       "  <thead>\n",
       "    <tr style=\"text-align: right;\">\n",
       "      <th></th>\n",
       "      <th>VehicleID</th>\n",
       "      <th>Amount (Million Naira)</th>\n",
       "    </tr>\n",
       "  </thead>\n",
       "  <tbody>\n",
       "    <tr>\n",
       "      <td>7205</td>\n",
       "      <td>VHL18518</td>\n",
       "      <td>3.397879</td>\n",
       "    </tr>\n",
       "    <tr>\n",
       "      <td>7206</td>\n",
       "      <td>VHL17149</td>\n",
       "      <td>5.654644</td>\n",
       "    </tr>\n",
       "    <tr>\n",
       "      <td>7207</td>\n",
       "      <td>VHL10927</td>\n",
       "      <td>4.361098</td>\n",
       "    </tr>\n",
       "    <tr>\n",
       "      <td>7208</td>\n",
       "      <td>VHL12909</td>\n",
       "      <td>4.107484</td>\n",
       "    </tr>\n",
       "    <tr>\n",
       "      <td>7209</td>\n",
       "      <td>VHL12348</td>\n",
       "      <td>9.462356</td>\n",
       "    </tr>\n",
       "  </tbody>\n",
       "</table>\n",
       "</div>"
      ],
      "text/plain": [
       "     VehicleID  Amount (Million Naira)\n",
       "7205  VHL18518                3.397879\n",
       "7206  VHL17149                5.654644\n",
       "7207  VHL10927                4.361098\n",
       "7208  VHL12909                4.107484\n",
       "7209  VHL12348                9.462356"
      ]
     },
     "execution_count": 23,
     "metadata": {},
     "output_type": "execute_result"
    }
   ],
   "source": [
    "FINAL_DATA = pd.DataFrame()\n",
    "FINAL_DATA[\"VehicleID\"] = Test[\"VehicleID\"]\n",
    "FINAL_DATA[\"Amount (Million Naira)\"] = list(pred)\n",
    "FINAL_DATA.head()"
   ]
  },
  {
   "cell_type": "code",
   "execution_count": 24,
   "metadata": {},
   "outputs": [
    {
     "data": {
      "text/html": [
       "<div>\n",
       "<style scoped>\n",
       "    .dataframe tbody tr th:only-of-type {\n",
       "        vertical-align: middle;\n",
       "    }\n",
       "\n",
       "    .dataframe tbody tr th {\n",
       "        vertical-align: top;\n",
       "    }\n",
       "\n",
       "    .dataframe thead th {\n",
       "        text-align: right;\n",
       "    }\n",
       "</style>\n",
       "<table border=\"1\" class=\"dataframe\">\n",
       "  <thead>\n",
       "    <tr style=\"text-align: right;\">\n",
       "      <th></th>\n",
       "      <th>VehicleID</th>\n",
       "      <th>Amount (Million Naira)</th>\n",
       "    </tr>\n",
       "  </thead>\n",
       "  <tbody>\n",
       "    <tr>\n",
       "      <td>8662</td>\n",
       "      <td>VHL10015</td>\n",
       "      <td>1.965510</td>\n",
       "    </tr>\n",
       "    <tr>\n",
       "      <td>9259</td>\n",
       "      <td>VHL10015</td>\n",
       "      <td>23.198776</td>\n",
       "    </tr>\n",
       "  </tbody>\n",
       "</table>\n",
       "</div>"
      ],
      "text/plain": [
       "     VehicleID  Amount (Million Naira)\n",
       "8662  VHL10015                1.965510\n",
       "9259  VHL10015               23.198776"
      ]
     },
     "execution_count": 24,
     "metadata": {},
     "output_type": "execute_result"
    }
   ],
   "source": [
    "FINAL_DATA[FINAL_DATA[\"VehicleID\"]==\"VHL10015\"]"
   ]
  },
  {
   "cell_type": "code",
   "execution_count": 25,
   "metadata": {},
   "outputs": [],
   "source": [
    "FINAL_DATA.to_csv(\"SUBMISSION_2.csv\",index=False)"
   ]
  },
  {
   "cell_type": "markdown",
   "metadata": {},
   "source": [
    "from sklearn.model_selection import KFold\n",
    "from sklearn.ensemble import RandomForestRegressor\n",
    "kf = KFold(n_splits=5,shuffle=True,random_state=55)\n",
    "L1,L = [],[]\n",
    "estimator = RandomForestRegressor(max_depth=6, n_estimators=300, random_state=456)\n",
    "for count, (train_index, test_index) in enumerate(kf.split(train,target)):\n",
    "    x_train,x_test = train.iloc[train_index], train.iloc[test_index]\n",
    "    ytrain,ytest = target.iloc[train_index], target[test_index]\n",
    "    print(f\"================Fold{count+1}:=================\")\n",
    "    estimator.fit(x_train,ytrain)\n",
    "    test_pred  = estimator.predict(x_test)\n",
    "    pred = estimator.predict(test)\n",
    "    val_score = np.sqrt(mean_squared_error(pred,ytest))\n",
    "    print(\"valscore: \",val_score)\n",
    "    L1.append(val_score)\n",
    "    L+=pred\n",
    "    \n",
    "print(\"valscore mean: \", np.mean(L1))\n",
    "    "
   ]
  },
  {
   "cell_type": "markdown",
   "metadata": {},
   "source": [
    "np.all(np.isfinite(train.values))"
   ]
  },
  {
   "cell_type": "markdown",
   "metadata": {
    "scrolled": true
   },
   "source": [
    "predictions = np.mean(L)\n",
    "ss = pd.read_csv('SampleSubmission.csv')\n",
    "ss['Amount (Million Naira)'] = predictions\n",
    "ss.to_csv(\"My_Submission.csv\",index=False)"
   ]
  },
  {
   "cell_type": "code",
   "execution_count": null,
   "metadata": {},
   "outputs": [],
   "source": []
  }
 ],
 "metadata": {
  "kernelspec": {
   "display_name": "Python 3",
   "language": "python",
   "name": "python3"
  },
  "language_info": {
   "codemirror_mode": {
    "name": "ipython",
    "version": 3
   },
   "file_extension": ".py",
   "mimetype": "text/x-python",
   "name": "python",
   "nbconvert_exporter": "python",
   "pygments_lexer": "ipython3",
   "version": "3.7.4"
  }
 },
 "nbformat": 4,
 "nbformat_minor": 2
}
